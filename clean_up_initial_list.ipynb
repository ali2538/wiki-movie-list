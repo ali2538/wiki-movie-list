{
 "cells": [
  {
   "cell_type": "markdown",
   "id": "6a4b1910-a340-45dc-8882-5087311ed292",
   "metadata": {},
   "source": [
    "In this notebook we will clean up the initial list created which contains the list of movies and the wikipedia links"
   ]
  },
  {
   "cell_type": "code",
   "execution_count": null,
   "id": "ca289963-f03e-4f19-b25d-722c018cb625",
   "metadata": {},
   "outputs": [],
   "source": [
    "import pandas as pd\n",
    "import numpy as np"
   ]
  },
  {
   "cell_type": "code",
   "execution_count": null,
   "id": "cf223b37-93a1-435d-9b46-fbd9f6547fb7",
   "metadata": {},
   "outputs": [],
   "source": [
    "df = pd.read_csv(\"initial_movie_titles_links_list.csv\")"
   ]
  },
  {
   "cell_type": "code",
   "execution_count": null,
   "id": "12a59f19-dd7c-43eb-8f6b-60950d3863b6",
   "metadata": {},
   "outputs": [],
   "source": [
    "df.head()"
   ]
  },
  {
   "cell_type": "code",
   "execution_count": null,
   "id": "b27fea87-9f50-4ce6-82bf-f2ea049c2af4",
   "metadata": {},
   "outputs": [],
   "source": [
    "df.shape"
   ]
  },
  {
   "cell_type": "code",
   "execution_count": null,
   "id": "42e07e16-8ca1-4d36-9b36-c730aca2c887",
   "metadata": {},
   "outputs": [],
   "source": [
    "df.isnull()"
   ]
  },
  {
   "cell_type": "code",
   "execution_count": null,
   "id": "536a288a-1a21-4b6b-8993-ade0c74998df",
   "metadata": {},
   "outputs": [],
   "source": [
    "np.where(pd.isnull(df))"
   ]
  },
  {
   "cell_type": "code",
   "execution_count": null,
   "id": "344ac973-79b0-42ef-9ddf-a289258a1cba",
   "metadata": {},
   "outputs": [],
   "source": [
    "df['movie_name'].isnull()"
   ]
  },
  {
   "cell_type": "markdown",
   "id": "95cc5551-f934-4d63-bbb0-e056fbcdf9d0",
   "metadata": {},
   "source": [
    "The number of rows with missing links are not that high so we will export them to another dataframe and save them to a file for possible future plans. Most these missing titles are results of bad or non-exsiting links in wikipedia"
   ]
  },
  {
   "cell_type": "code",
   "execution_count": null,
   "id": "1c288f6a-85fb-4a1c-ae5c-f5298f9840b6",
   "metadata": {},
   "outputs": [],
   "source": [
    "df_missing = pd.DataFrame(df[df.isnull().any(axis=1)])"
   ]
  },
  {
   "cell_type": "code",
   "execution_count": null,
   "id": "1e0415c6-8e1f-4b3b-8e8f-377be2fa95cf",
   "metadata": {},
   "outputs": [],
   "source": [
    "df_missing.head()"
   ]
  },
  {
   "cell_type": "code",
   "execution_count": null,
   "id": "82dc4cbd-a649-437c-b70f-89da7a67b901",
   "metadata": {},
   "outputs": [],
   "source": [
    "df_missing.to_csv(\"rows_with_missing_titles.csv\")"
   ]
  },
  {
   "cell_type": "markdown",
   "id": "ec15116f-6e09-403a-850b-a8750fca9c98",
   "metadata": {},
   "source": [
    "Now we drop the rows and export the cleaned up dataframe to csv to be picked up by the nect process"
   ]
  },
  {
   "cell_type": "code",
   "execution_count": null,
   "id": "c891ac65-217a-4006-8ae1-4332a2bc4599",
   "metadata": {},
   "outputs": [],
   "source": [
    "df.dropna(inplace=True)"
   ]
  },
  {
   "cell_type": "code",
   "execution_count": null,
   "id": "b7a1b725-361f-4717-b85d-ef899d481f46",
   "metadata": {},
   "outputs": [],
   "source": [
    "np.where(pd.isnull(df))"
   ]
  },
  {
   "cell_type": "code",
   "execution_count": null,
   "id": "34239be1-9c49-4c2e-b5b8-5dcd8718007c",
   "metadata": {},
   "outputs": [],
   "source": [
    "df.head()"
   ]
  },
  {
   "cell_type": "code",
   "execution_count": null,
   "id": "bae38273-fc56-44fc-a374-4119eb75433b",
   "metadata": {},
   "outputs": [],
   "source": [
    "df.to_csv(\"movie_titles_and_wiki_links.csv\", index=False)"
   ]
  }
 ],
 "metadata": {
  "kernelspec": {
   "display_name": "Python 3 (ipykernel)",
   "language": "python",
   "name": "python3"
  },
  "language_info": {
   "codemirror_mode": {
    "name": "ipython",
    "version": 3
   },
   "file_extension": ".py",
   "mimetype": "text/x-python",
   "name": "python",
   "nbconvert_exporter": "python",
   "pygments_lexer": "ipython3",
   "version": "3.10.13"
  }
 },
 "nbformat": 4,
 "nbformat_minor": 5
}
